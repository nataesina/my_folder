{
 "cells": [
  {
   "cell_type": "markdown",
   "metadata": {},
   "source": [
    "Реализуйте функцию, которая на вход принемает имя файла и записывает в ту же директорию файл (vocabulary.txt) с уникальными словами из текста."
   ]
  },
  {
   "cell_type": "code",
   "execution_count": 2,
   "metadata": {
    "collapsed": true
   },
   "outputs": [],
   "source": [
    "def f(filename):\n",
    "    with open(filename) as fl:\n",
    "        text = fl.read()\n",
    "        text_clean = (''.join([i for i in text if i.isalpha() or i ==' ' or i == '-' or i == '\\n']).lower()).split()\n",
    "        vocab = [i +', ' for i in text_clean if text_clean.count(i) == 1]\n",
    "        print(vocab)\n",
    "        with open('vocabulary.txt', 'w') as fl2:\n",
    "            fl2.writelines(vocab)"
   ]
  }
 ],
 "metadata": {
  "kernelspec": {
   "display_name": "Python 3",
   "language": "python",
   "name": "python3"
  },
  "language_info": {
   "codemirror_mode": {
    "name": "ipython",
    "version": 3
   },
   "file_extension": ".py",
   "mimetype": "text/x-python",
   "name": "python",
   "nbconvert_exporter": "python",
   "pygments_lexer": "ipython3",
   "version": "3.6.3"
  }
 },
 "nbformat": 4,
 "nbformat_minor": 2
}
