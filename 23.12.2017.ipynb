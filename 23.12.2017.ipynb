{
 "cells": [
  {
   "cell_type": "markdown",
   "metadata": {},
   "source": [
    "Задача 1. Скачать главную страницу Яндекс.Погоды и сделать следующее: (1) распечатать сегодняшнюю температуру и облачность, (2) распечатать время восхода и заката, (3) погоду на завтра"
   ]
  },
  {
   "cell_type": "code",
   "execution_count": 183,
   "metadata": {},
   "outputs": [],
   "source": [
    "import urllib.request\n",
    "import re\n",
    "def weather():\n",
    "    link = urllib.request.Request('https://yandex.ru/pogoda/moscow/')\n",
    "    with urllib.request.urlopen(link) as response:\n",
    "        html = response.read().decode('utf-8')\n",
    "        items = re.compile(r'<div class=\"forecast-briefly__name\">Сегодня</div>.*?</a></div>', re.DOTALL).findall(html)\n",
    "        temp = re.findall(r'<span class=\"temp__pre\">[А-Яа-яё]+</span>.*?</span></div>', items[0])\n",
    "        temp_clean = [re.sub(r'<.*?>|[А-Яа-яё]', '', elem) for elem in temp]\n",
    "        precip = re.findall(r'<div class=\"forecast-briefly__condition\">[А-Яа-яё ]+</div>', items[0])\n",
    "        precip_clean = re.sub(r'<.*?>', '', precip[0])\n",
    "        sunrise_sunset = re.compile(r'<dt class=\"sunrise-sunset__label\">.*<span class=\"sunrise-sunset__text\">', re.DOTALL).findall(html)\n",
    "        sunrise_sunset_clean = re.sub(r'<.*?>', ' ', sunrise_sunset[0])\n",
    "        weather_tmrw = re.compile(r'''\"dayIndex\":2}}'>.*?</span></div>''', re.DOTALL).findall(html)\n",
    "        weather_tmrw_clean = re.sub(r'<.*?>|[А-Яа-яё]+|\\d+ [А-Яа-яё]+\\.?|(\"dayIndex\":2}}\\'>)', '', weather_tmrw[0])\n",
    "        print('Сегодня в Москве днем:', temp_clean[0], '\\nНочью:', temp_clean[1], '\\nОсадки:', precip_clean)\n",
    "        print(sunrise_sunset_clean.strip())\n",
    "        print('Завтра в Москве:', weather_tmrw_clean)"
   ]
  },
  {
   "cell_type": "code",
   "execution_count": 184,
   "metadata": {},
   "outputs": [
    {
     "name": "stdout",
     "output_type": "stream",
     "text": [
      "Сегодня в Москве днем: 0° \n",
      "Ночью: −5° \n",
      "Осадки: Снег\n",
      "Восход     08:58     Закат     15:59\n",
      "Завтра в Москве: −5°\n"
     ]
    }
   ],
   "source": [
    "weather()"
   ]
  },
  {
   "cell_type": "code",
   "execution_count": null,
   "metadata": {
    "collapsed": true
   },
   "outputs": [],
   "source": []
  }
 ],
 "metadata": {
  "kernelspec": {
   "display_name": "Python 3",
   "language": "python",
   "name": "python3"
  },
  "language_info": {
   "codemirror_mode": {
    "name": "ipython",
    "version": 3
   },
   "file_extension": ".py",
   "mimetype": "text/x-python",
   "name": "python",
   "nbconvert_exporter": "python",
   "pygments_lexer": "ipython3",
   "version": "3.6.3"
  }
 },
 "nbformat": 4,
 "nbformat_minor": 2
}
