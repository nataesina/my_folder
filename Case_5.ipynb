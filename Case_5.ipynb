{
 "cells": [
  {
   "cell_type": "code",
   "execution_count": 57,
   "metadata": {},
   "outputs": [],
   "source": [
    "string = 'В программировании, строковый тип (англ. string - нить, вереница) - тип данных, значениями которого является произвольная последовательность (строка) символов алфавита. Каждая переменная такого типа (строковая переменная) может быть представлена фиксированным количеством байтов либо иметь произвольную длину.'"
   ]
  },
  {
   "cell_type": "code",
   "execution_count": 119,
   "metadata": {},
   "outputs": [
    {
     "name": "stdout",
     "output_type": "stream",
     "text": [
      "The share of uppercase letters is 0.77 %\n",
      "The share of uppercase letters is 99.23 %\n"
     ]
    }
   ],
   "source": [
    "for i in [',', '.', '-', '(', ')', ' ']:\n",
    "    string = string.replace(i, '')\n",
    "\n",
    "Caps = string.upper()\n",
    "Lowers = string.lower()\n",
    "counter = []\n",
    "\n",
    "for i in range(len(string)):\n",
    "    if string[i] in Caps:\n",
    "        counter.append(i)\n",
    "\n",
    "percent = len(counter)/len(string)        \n",
    "print('The share of uppercase letters is %.2f'%(percent*100),'%')\n",
    "print('The share of uppercase letters is %.2f'%(100 - percent*100),'%')"
   ]
  }
 ],
 "metadata": {
  "kernelspec": {
   "display_name": "Python 3",
   "language": "python",
   "name": "python3"
  },
  "language_info": {
   "codemirror_mode": {
    "name": "ipython",
    "version": 3
   },
   "file_extension": ".py",
   "mimetype": "text/x-python",
   "name": "python",
   "nbconvert_exporter": "python",
   "pygments_lexer": "ipython3",
   "version": "3.6.3"
  }
 },
 "nbformat": 4,
 "nbformat_minor": 2
}
